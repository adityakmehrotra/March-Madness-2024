{
 "cells": [
  {
   "cell_type": "code",
   "execution_count": 13,
   "metadata": {},
   "outputs": [],
   "source": [
    "from selenium import webdriver\n",
    "from selenium.webdriver.common.by import By\n",
    "from selenium.common.exceptions import NoSuchElementException\n",
    "import numpy as np\n",
    "import pandas as pd\n",
    "from sklearn.linear_model import LinearRegression, LogisticRegression\n",
    "from bs4 import BeautifulSoup\n",
    "import pandas as pd\n",
    "import csv\n",
    "import time"
   ]
  },
  {
   "cell_type": "code",
   "execution_count": 17,
   "metadata": {},
   "outputs": [
    {
     "name": "stdout",
     "output_type": "stream",
     "text": [
      "Starting to Scrape Data for Year: 2007\n",
      "Successfully Scraped Data for Year: 2007. Now Switching to Year: 2008\n",
      "Starting to Scrape Data for Year: 2008\n"
     ]
    }
   ],
   "source": [
    "driver = webdriver.Chrome()\n",
    "# Data from 2002-2006 (full) has been scraped\n",
    "year = 2007\n",
    "while (year <= 2024):\n",
    "    with open('%d_meta_data.csv' % (year), 'w', newline = '') as file:\n",
    "        print(\"Starting to Scrape Data for Year: %d\" % (year))\n",
    "        writer = csv.writer(file)\n",
    "        writer.writerow(['Rank', 'Tournament Rank', 'Team Name', 'Conference', 'Wins', 'Losses', 'AdjEM', 'AdjO', 'AdjO Rank', 'AdjD', \n",
    "                         'AdjD Rank', 'AdjT', 'AdjT Rank', 'Luck', 'Luck Rank', 'SS AdjEM', 'SS AdjEM Rank', 'SS OppO', 'SS OppO Rank', \n",
    "                         'SS OppD', 'SS OppD Rank', 'NCSOS AdjEM', 'NCSOS AdjEM Rank'])\n",
    "        \n",
    "        driver.get('https://kenpom.com/index.php?y=%d' % (year))\n",
    "        driver.maximize_window()\n",
    "\n",
    "        totalRows = 40\n",
    "        totalGroups = 9\n",
    "\n",
    "        tempRow = 1\n",
    "        tempGroup = 1\n",
    "\n",
    "        while (tempGroup <= totalGroups):\n",
    "            while (tempRow <= totalRows):\n",
    "                try:\n",
    "                    team_main_rank = driver.find_element(By.XPATH, '/html/body/div[1]/div[1]/div[3]/div/table/tbody[%d]/tr[%d]/td[1]' % (tempGroup, tempRow)).text\n",
    "\n",
    "                    try:\n",
    "                        team_tournament_rank = driver.find_element(By.XPATH, '/html/body/div[1]/div[1]/div[3]/div/table/tbody[%d]/tr[%d]/td[2]/span' % (tempGroup, tempRow)).text\n",
    "                    except:\n",
    "                        team_tournament_rank = \"N/A\"\n",
    "                    \n",
    "                    team_name = driver.find_element(By.XPATH, '/html/body/div[1]/div[1]/div[3]/div/table/tbody[%d]/tr[%d]/td[2]/a' % (tempGroup, tempRow)).text\n",
    "\n",
    "                    team_conf = driver.find_element(By.XPATH, '/html/body/div[1]/div[1]/div[3]/div/table/tbody[%d]/tr[%d]/td[3]' % (tempGroup, tempRow)).text\n",
    "\n",
    "                    win_loss = driver.find_element(By.XPATH, '/html/body/div[1]/div[1]/div[3]/div/table/tbody[%d]/tr[%d]/td[4]' % (tempGroup, tempRow)).text.split(\"-\")\n",
    "                    team_wins = win_loss[0]\n",
    "                    team_losses = win_loss[1]\n",
    "                                                                \n",
    "                    team_adj_em = driver.find_element(By.XPATH, '/html/body/div[1]/div[1]/div[3]/div/table/tbody[%d]/tr[%d]/td[5]' % (tempGroup, tempRow)).text\n",
    "\n",
    "                    team_adj_o = driver.find_element(By.XPATH, '/html/body/div[1]/div[1]/div[3]/div/table/tbody[%d]/tr[%d]/td[6]' % (tempGroup, tempRow)).text\n",
    "                    team_adj_o_rank = driver.find_element(By.XPATH, '/html/body/div[1]/div[1]/div[3]/div/table/tbody[%d]/tr[%d]/td[7]/span' % (tempGroup, tempRow)).text\n",
    "\n",
    "                    team_adj_d = driver.find_element(By.XPATH, '/html/body/div[1]/div[1]/div[3]/div/table/tbody[%d]/tr[%d]/td[8]' % (tempGroup, tempRow)).text\n",
    "                    team_adj_d_rank = driver.find_element(By.XPATH, '/html/body/div[1]/div[1]/div[3]/div/table/tbody[%d]/tr[%d]/td[9]/span' % (tempGroup, tempRow)).text\n",
    "\n",
    "                    team_adj_t = driver.find_element(By.XPATH, '/html/body/div[1]/div[1]/div[3]/div/table/tbody[%d]/tr[%d]/td[10]' % (tempGroup, tempRow)).text\n",
    "                    team_adj_t_rank = driver.find_element(By.XPATH, '/html/body/div[1]/div[1]/div[3]/div/table/tbody[%d]/tr[%d]/td[11]/span' % (tempGroup, tempRow)).text\n",
    "\n",
    "                    team_luck = driver.find_element(By.XPATH, '/html/body/div[1]/div[1]/div[3]/div/table/tbody[%d]/tr[%d]/td[12]' % (tempGroup, tempRow)).text\n",
    "                    team_luck_rank = driver.find_element(By.XPATH, '/html/body/div[1]/div[1]/div[3]/div/table/tbody[%d]/tr[%d]/td[13]/span' % (tempGroup, tempRow)).text\n",
    "\n",
    "                    team_adj_em_ss = driver.find_element(By.XPATH, '/html/body/div[1]/div[1]/div[3]/div/table/tbody[%d]/tr[%d]/td[14]' % (tempGroup, tempRow)).text\n",
    "                    team_adj_em_ss_rank = driver.find_element(By.XPATH, '/html/body/div[1]/div[1]/div[3]/div/table/tbody[%d]/tr[%d]/td[15]/span' % (tempGroup, tempRow)).text\n",
    "\n",
    "                    team_opp_o = driver.find_element(By.XPATH, '/html/body/div[1]/div[1]/div[3]/div/table/tbody[%d]/tr[%d]/td[16]' % (tempGroup, tempRow)).text\n",
    "                    team_opp_o_rank = driver.find_element(By.XPATH, '/html/body/div[1]/div[1]/div[3]/div/table/tbody[%d]/tr[%d]/td[17]/span' % (tempGroup, tempRow)).text\n",
    "\n",
    "                    team_opp_d = driver.find_element(By.XPATH, '/html/body/div[1]/div[1]/div[3]/div/table/tbody[%d]/tr[%d]/td[18]' % (tempGroup, tempRow)).text\n",
    "                    team_opp_d_rank = driver.find_element(By.XPATH, '/html/body/div[1]/div[1]/div[3]/div/table/tbody[%d]/tr[%d]/td[19]/span' % (tempGroup, tempRow)).text\n",
    "\n",
    "                    team_ncsos_adj_em = driver.find_element(By.XPATH, '/html/body/div[1]/div[1]/div[3]/div/table/tbody[%d]/tr[%d]/td[20]' % (tempGroup, tempRow)).text\n",
    "                    team_ncsos_adj_em_rank = driver.find_element(By.XPATH, '/html/body/div[1]/div[1]/div[3]/div/table/tbody[%d]/tr[%d]/td[21]/span' % (tempGroup, tempRow)).text\n",
    "                \n",
    "                \n",
    "                    writer.writerow([team_main_rank, team_tournament_rank, team_name, team_conf, team_wins, team_losses, team_adj_em, team_adj_o, team_adj_o_rank,\n",
    "                                    team_adj_d, team_adj_d_rank, team_adj_t, team_adj_t_rank, team_luck, team_luck_rank, team_adj_em_ss, team_adj_em_ss_rank,\n",
    "                                    team_opp_o, team_opp_o_rank, team_opp_d, team_opp_d_rank, team_ncsos_adj_em, team_ncsos_adj_em_rank])\n",
    "                                    \n",
    "                except:\n",
    "                    tempGroup = totalGroups + 1\n",
    "\n",
    "                tempRow += 1\n",
    "\n",
    "            tempRow = 1\n",
    "            tempGroup += 1\n",
    "\n",
    "\n",
    "    print(\"Successfully Scraped Data for Year: %d. Now Switching to Year: %d\" % (year, year + 1))\n",
    "    year += 1"
   ]
  },
  {
   "cell_type": "code",
   "execution_count": null,
   "metadata": {},
   "outputs": [],
   "source": []
  }
 ],
 "metadata": {
  "kernelspec": {
   "display_name": "Python 3.10.7 64-bit",
   "language": "python",
   "name": "python3"
  },
  "language_info": {
   "codemirror_mode": {
    "name": "ipython",
    "version": 3
   },
   "file_extension": ".py",
   "mimetype": "text/x-python",
   "name": "python",
   "nbconvert_exporter": "python",
   "pygments_lexer": "ipython3",
   "version": "3.10.7"
  },
  "orig_nbformat": 4,
  "vscode": {
   "interpreter": {
    "hash": "aee8b7b246df8f9039afb4144a1f6fd8d2ca17a180786b69acc140d282b71a49"
   }
  }
 },
 "nbformat": 4,
 "nbformat_minor": 2
}
